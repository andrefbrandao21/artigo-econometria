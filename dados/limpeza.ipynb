{
 "cells": [
  {
   "cell_type": "code",
   "execution_count": 2,
   "metadata": {},
   "outputs": [],
   "source": [
    "import pandas as pd\n"
   ]
  },
  {
   "cell_type": "code",
   "execution_count": 3,
   "metadata": {},
   "outputs": [
    {
     "name": "stderr",
     "output_type": "stream",
     "text": [
      "C:\\Users\\brand\\AppData\\Local\\Temp\\ipykernel_1784\\1477104671.py:28: FutureWarning: Downcasting behavior in `replace` is deprecated and will be removed in a future version. To retain the old behavior, explicitly call `result.infer_objects(copy=False)`. To opt-in to the future behavior, set `pd.set_option('future.no_silent_downcasting', True)`\n",
      "  df['ESCOLARIDADE'] = df['ESCOLARIDADE'].replace(criterios_esc)\n",
      "C:\\Users\\brand\\AppData\\Local\\Temp\\ipykernel_1784\\1477104671.py:29: FutureWarning: Downcasting behavior in `replace` is deprecated and will be removed in a future version. To retain the old behavior, explicitly call `result.infer_objects(copy=False)`. To opt-in to the future behavior, set `pd.set_option('future.no_silent_downcasting', True)`\n",
      "  df['BRANCO'] = df['BRANCO'].replace(criterios_cor)\n",
      "C:\\Users\\brand\\AppData\\Local\\Temp\\ipykernel_1784\\1477104671.py:30: FutureWarning: Downcasting behavior in `replace` is deprecated and will be removed in a future version. To retain the old behavior, explicitly call `result.infer_objects(copy=False)`. To opt-in to the future behavior, set `pd.set_option('future.no_silent_downcasting', True)`\n",
      "  df['HOMEM'] = df['HOMEM'].replace(criterios_homem)\n"
     ]
    }
   ],
   "source": [
    "#Lendo a base de dados\n",
    "df = pd.read_csv(\"dados_exportados.csv\")\n",
    "\n",
    "#Renomeando as colunas\n",
    "df = df.rename(columns={'V2007': 'HOMEM', 'V2009': 'IDADE', 'V2010':'BRANCO', 'VD3004': 'ESCOLARIDADE', 'VD3005': 'ANOS DE ESTUDO'})\n",
    "\n",
    "#removendo os valores ausentes\n",
    "df = df.dropna()\n",
    "\n",
    "#filtrando para idade superior a 25\n",
    "df = df[df['IDADE'] >= 25]\n",
    "\n",
    "#criando índices numéricos para valores de texto\n",
    "\n",
    "criterios_esc = {\n",
    "    'Fundamental incompleto ou equivalente': 0, \"Sem instrução e menos de 1 ano de estudo\": 0, \"Fundamental completo ou equivalente\":1, \n",
    "    'Médio incompleto ou equivalente': 1, 'Médio completo ou equivalente': 2, 'Superior incompleto ou equivalente':2, 'Superior completo':3\n",
    "}\n",
    "\n",
    "criterios_cor = {\n",
    "    'Parda':0, 'Branca':1, 'Preta':0, 'Amarela':0, 'Indígena':0, 'Ignorado':0\n",
    "}\n",
    "\n",
    "criterios_homem = {\n",
    "    'Mulher':0, 'Homem':1\n",
    "}\n",
    "\n",
    "df['ESCOLARIDADE'] = df['ESCOLARIDADE'].replace(criterios_esc)\n",
    "df['BRANCO'] = df['BRANCO'].replace(criterios_cor)\n",
    "df['HOMEM'] = df['HOMEM'].replace(criterios_homem)\n",
    "\n",
    "#criando tabelas específicas para cada nível de escolaridade\n",
    "\n",
    "\n",
    "df['fundamental_completo'] = df['ESCOLARIDADE'].apply(lambda x:1 if x == 1 else 0)\n",
    "df['medio_completo'] = df['ESCOLARIDADE'].apply(lambda x:1 if x == 2 else 0)\n",
    "df['superior_completo'] = df['ESCOLARIDADE'].apply(lambda x:1 if x == 3 else 0)\n",
    "\n",
    "\n",
    "\n",
    "df.to_csv('tratamento1.csv', index=False)"
   ]
  }
 ],
 "metadata": {
  "kernelspec": {
   "display_name": "Python 3",
   "language": "python",
   "name": "python3"
  },
  "language_info": {
   "codemirror_mode": {
    "name": "ipython",
    "version": 3
   },
   "file_extension": ".py",
   "mimetype": "text/x-python",
   "name": "python",
   "nbconvert_exporter": "python",
   "pygments_lexer": "ipython3",
   "version": "3.12.8"
  }
 },
 "nbformat": 4,
 "nbformat_minor": 2
}
